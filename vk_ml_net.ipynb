{
 "cells": [
  {
   "cell_type": "code",
   "execution_count": 92,
   "metadata": {},
   "outputs": [],
   "source": [
    "import numpy as np\n",
    "import pandas as pd\n",
    "from sklearn.model_selection import train_test_split\n",
    "from sklearn.metrics import ndcg_score\n",
    "\n",
    "import matplotlib.pyplot as plt\n",
    "import seaborn as sns\n",
    "\n",
    "from sklearn.decomposition import TruncatedSVD\n",
    "from catboost import CatBoostClassifier, Pool, cv\n",
    "import optuna"
   ]
  },
  {
   "cell_type": "code",
   "execution_count": 99,
   "metadata": {},
   "outputs": [
    {
     "name": "stdout",
     "output_type": "stream",
     "text": [
      "Best number of components: 77\n"
     ]
    }
   ],
   "source": [
    "# Задаем список возможных значений количества компонент\n",
    "n_components = np.arange(81)\n",
    "data = pd.read_csv('C:/Users/savel/Downloads/train_df.csv')\n",
    "\n",
    "X = data.drop('target', axis=1)  # Признаки\n",
    "y = data['target']  # Целевая переменная\n",
    "\n",
    "explained_variance = []\n",
    "for n in n_components:\n",
    "    svd = TruncatedSVD(n_components=n)\n",
    "    svd.fit(data)\n",
    "    explained_variance.append(svd.explained_variance_ratio_.sum())\n",
    "\n",
    "best_n_components = n_components[np.argmax(explained_variance)]\n",
    "print(\"Best number of components:\", best_n_components)"
   ]
  },
  {
   "cell_type": "code",
   "execution_count": 100,
   "metadata": {},
   "outputs": [],
   "source": [
    "data = pd.read_csv('C:/Users/savel/Downloads/train_df.csv')\n",
    "\n",
    "X = data.drop('target', axis=1)  # Признаки\n",
    "y = data['target']  # Целевая переменная\n",
    "\n",
    "# Факторизация данных при помощи SVD\n",
    "svd = TruncatedSVD(n_components = best_n_components)  # Выбираем количество компонентов\n",
    "X_svd = svd.fit_transform(X)\n",
    "\n",
    "# Разделение данных на обучающий и тестовый наборы\n",
    "X_train, X_test, y_train, y_test = train_test_split(X_svd, y, test_size=0.2, random_state=42, stratify = y)"
   ]
  },
  {
   "cell_type": "code",
   "execution_count": 101,
   "metadata": {},
   "outputs": [],
   "source": [
    "train_dataset = Pool(data = X_train,\n",
    "                    label = y_train,\n",
    "                    cat_features = None)\n",
    "\n",
    "test_dataset = Pool(data = X_test,\n",
    "                    label = y_test,\n",
    "                    cat_features = None)"
   ]
  },
  {
   "cell_type": "code",
   "execution_count": 102,
   "metadata": {},
   "outputs": [
    {
     "name": "stderr",
     "output_type": "stream",
     "text": [
      "[I 2024-03-11 19:50:49,729] A new study created in memory with name: no-name-2816546d-077d-4c59-be26-4a4598413e08\n",
      "[I 2024-03-11 19:51:44,745] Trial 0 finished with value: 0.4266745713217855 and parameters: {'iterations': 912, 'learning_rate': 0.2743126925234466, 'depth': 8, 'l2_leaf_reg': 2.9471873620861673, 'bagging_temperature': 0.5108258482955478}. Best is trial 0 with value: 0.4266745713217855.\n",
      "[I 2024-03-11 19:51:48,590] Trial 1 finished with value: 0.42792101613363076 and parameters: {'iterations': 501, 'learning_rate': 0.038899535559388514, 'depth': 2, 'l2_leaf_reg': 7.417097340058828, 'bagging_temperature': 0.7041097913795791}. Best is trial 1 with value: 0.42792101613363076.\n",
      "[I 2024-03-11 19:52:15,225] Trial 2 finished with value: 0.42792101613363076 and parameters: {'iterations': 966, 'learning_rate': 0.123424232413724, 'depth': 7, 'l2_leaf_reg': 2.8908426134065155, 'bagging_temperature': 0.6921981640983674}. Best is trial 1 with value: 0.42792101613363076.\n",
      "[I 2024-03-11 19:52:20,172] Trial 3 finished with value: 0.42593986034674175 and parameters: {'iterations': 687, 'learning_rate': 0.2105247457728076, 'depth': 2, 'l2_leaf_reg': 7.621356114482996, 'bagging_temperature': 0.8017195808636497}. Best is trial 1 with value: 0.42792101613363076.\n",
      "[I 2024-03-11 19:52:27,870] Trial 4 finished with value: 0.42792101613363076 and parameters: {'iterations': 741, 'learning_rate': 0.03524974444098512, 'depth': 4, 'l2_leaf_reg': 3.772015056070632, 'bagging_temperature': 0.6572208617506445}. Best is trial 1 with value: 0.42792101613363076.\n",
      "[I 2024-03-11 19:52:35,785] Trial 5 finished with value: 0.4266745713217855 and parameters: {'iterations': 429, 'learning_rate': 0.17879069984972562, 'depth': 6, 'l2_leaf_reg': 6.143741638003419, 'bagging_temperature': 0.5682513648859526}. Best is trial 1 with value: 0.42792101613363076.\n",
      "[I 2024-03-11 19:52:41,837] Trial 6 finished with value: 0.4266745713217855 and parameters: {'iterations': 851, 'learning_rate': 0.13168199533413888, 'depth': 2, 'l2_leaf_reg': 6.341479249496218, 'bagging_temperature': 0.7290391956499216}. Best is trial 1 with value: 0.42792101613363076.\n",
      "[I 2024-03-11 19:52:57,985] Trial 7 finished with value: 0.4266745713217855 and parameters: {'iterations': 855, 'learning_rate': 0.14331277226430084, 'depth': 6, 'l2_leaf_reg': 9.359397805732822, 'bagging_temperature': 0.9623094117688745}. Best is trial 1 with value: 0.42792101613363076.\n",
      "[I 2024-03-11 19:53:10,075] Trial 8 finished with value: 0.42792101613363076 and parameters: {'iterations': 674, 'learning_rate': 0.20242084388408704, 'depth': 6, 'l2_leaf_reg': 7.579200896819272, 'bagging_temperature': 0.773028942093732}. Best is trial 1 with value: 0.42792101613363076.\n",
      "[I 2024-03-11 19:53:37,144] Trial 9 finished with value: 0.42792101613363076 and parameters: {'iterations': 521, 'learning_rate': 0.11634001151356857, 'depth': 8, 'l2_leaf_reg': 9.507707462735794, 'bagging_temperature': 0.9490357079213376}. Best is trial 1 with value: 0.42792101613363076.\n",
      "[I 2024-03-11 19:53:42,065] Trial 10 finished with value: 0.42792101613363076 and parameters: {'iterations': 373, 'learning_rate': 0.013754220983346256, 'depth': 4, 'l2_leaf_reg': 4.523647075261967, 'bagging_temperature': 0.8526464458075863}. Best is trial 1 with value: 0.42792101613363076.\n",
      "[I 2024-03-11 19:53:49,013] Trial 11 finished with value: 0.42792101613363076 and parameters: {'iterations': 534, 'learning_rate': 0.07691098899824651, 'depth': 4, 'l2_leaf_reg': 1.226342526818181, 'bagging_temperature': 0.6525856354778113}. Best is trial 1 with value: 0.42792101613363076.\n",
      "[I 2024-03-11 19:53:58,728] Trial 12 finished with value: 0.42792101613363076 and parameters: {'iterations': 302, 'learning_rate': 0.07439514317710293, 'depth': 7, 'l2_leaf_reg': 2.3638146910349307, 'bagging_temperature': 0.6710680753708727}. Best is trial 1 with value: 0.42792101613363076.\n",
      "[I 2024-03-11 19:54:08,275] Trial 13 finished with value: 0.4266745713217855 and parameters: {'iterations': 994, 'learning_rate': 0.07678641065523817, 'depth': 3, 'l2_leaf_reg': 4.754250221989967, 'bagging_temperature': 0.5966657036185904}. Best is trial 1 with value: 0.42792101613363076.\n",
      "[I 2024-03-11 19:54:16,798] Trial 14 finished with value: 0.4266745713217855 and parameters: {'iterations': 561, 'learning_rate': 0.25506654534263173, 'depth': 5, 'l2_leaf_reg': 7.800607888898362, 'bagging_temperature': 0.8661716774667068}. Best is trial 1 with value: 0.42792101613363076.\n",
      "[I 2024-03-11 19:54:41,649] Trial 15 finished with value: 0.42792101613363076 and parameters: {'iterations': 769, 'learning_rate': 0.10547656640514705, 'depth': 7, 'l2_leaf_reg': 1.0175250140247103, 'bagging_temperature': 0.7325195505053318}. Best is trial 1 with value: 0.42792101613363076.\n",
      "[I 2024-03-11 19:54:47,131] Trial 16 finished with value: 0.42792101613363076 and parameters: {'iterations': 590, 'learning_rate': 0.04654346720494029, 'depth': 3, 'l2_leaf_reg': 5.783976048556831, 'bagging_temperature': 0.7110943844114253}. Best is trial 1 with value: 0.42792101613363076.\n",
      "[I 2024-03-11 19:54:53,551] Trial 17 finished with value: 0.4266745713217855 and parameters: {'iterations': 449, 'learning_rate': 0.16678656584217968, 'depth': 5, 'l2_leaf_reg': 8.45284223697356, 'bagging_temperature': 0.602173391709049}. Best is trial 1 with value: 0.42792101613363076.\n",
      "[I 2024-03-11 19:55:15,368] Trial 18 finished with value: 0.42792101613363076 and parameters: {'iterations': 631, 'learning_rate': 0.09008301793140401, 'depth': 7, 'l2_leaf_reg': 2.5707792779819494, 'bagging_temperature': 0.8047101461187867}. Best is trial 1 with value: 0.42792101613363076.\n",
      "[I 2024-03-11 19:55:19,511] Trial 19 finished with value: 0.42792101613363076 and parameters: {'iterations': 467, 'learning_rate': 0.011584616785370816, 'depth': 3, 'l2_leaf_reg': 7.050841431432051, 'bagging_temperature': 0.5122517240429978}. Best is trial 1 with value: 0.42792101613363076.\n",
      "[I 2024-03-11 19:56:09,219] Trial 20 finished with value: 0.42792101613363076 and parameters: {'iterations': 967, 'learning_rate': 0.04011596933711468, 'depth': 8, 'l2_leaf_reg': 4.830876871872921, 'bagging_temperature': 0.8886173475856348}. Best is trial 1 with value: 0.42792101613363076.\n",
      "[I 2024-03-11 19:56:18,547] Trial 21 finished with value: 0.42792101613363076 and parameters: {'iterations': 727, 'learning_rate': 0.051484787069852836, 'depth': 4, 'l2_leaf_reg': 3.5783220631348143, 'bagging_temperature': 0.6642772992194255}. Best is trial 1 with value: 0.42792101613363076.\n",
      "[I 2024-03-11 19:56:25,368] Trial 22 finished with value: 0.42792101613363076 and parameters: {'iterations': 795, 'learning_rate': 0.03610817367575761, 'depth': 2, 'l2_leaf_reg': 3.8080092607069878, 'bagging_temperature': 0.6942808330827933}. Best is trial 1 with value: 0.42792101613363076.\n",
      "[I 2024-03-11 19:56:35,031] Trial 23 finished with value: 0.42792101613363076 and parameters: {'iterations': 911, 'learning_rate': 0.059566607538310806, 'depth': 3, 'l2_leaf_reg': 2.1128029436026368, 'bagging_temperature': 0.6163554068259266}. Best is trial 1 with value: 0.42792101613363076.\n",
      "[I 2024-03-11 19:56:45,272] Trial 24 finished with value: 0.42792101613363076 and parameters: {'iterations': 631, 'learning_rate': 0.10191897021787544, 'depth': 5, 'l2_leaf_reg': 3.656072262771154, 'bagging_temperature': 0.7635779873454217}. Best is trial 1 with value: 0.42792101613363076.\n",
      "[I 2024-03-11 19:56:55,024] Trial 25 finished with value: 0.42792101613363076 and parameters: {'iterations': 738, 'learning_rate': 0.1236102282958852, 'depth': 4, 'l2_leaf_reg': 5.2755254917904715, 'bagging_temperature': 0.6409219026237657}. Best is trial 1 with value: 0.42792101613363076.\n",
      "[I 2024-03-11 19:57:15,102] Trial 26 finished with value: 0.42792101613363076 and parameters: {'iterations': 853, 'learning_rate': 0.026328969387412898, 'depth': 6, 'l2_leaf_reg': 4.11200246347866, 'bagging_temperature': 0.5436560364063258}. Best is trial 1 with value: 0.42792101613363076.\n",
      "[I 2024-03-11 19:57:18,518] Trial 27 finished with value: 0.42593986034674175 and parameters: {'iterations': 385, 'learning_rate': 0.22728319949493117, 'depth': 2, 'l2_leaf_reg': 3.0830723495976167, 'bagging_temperature': 0.6735405149612732}. Best is trial 1 with value: 0.42792101613363076.\n",
      "[I 2024-03-11 19:57:23,737] Trial 28 finished with value: 0.42792101613363076 and parameters: {'iterations': 498, 'learning_rate': 0.06176020696471082, 'depth': 3, 'l2_leaf_reg': 1.63163015154505, 'bagging_temperature': 0.7063692934804896}. Best is trial 1 with value: 0.42792101613363076.\n",
      "[I 2024-03-11 19:57:40,298] Trial 29 finished with value: 0.42593986034674175 and parameters: {'iterations': 932, 'learning_rate': 0.2752082063057302, 'depth': 5, 'l2_leaf_reg': 6.783112449343265, 'bagging_temperature': 0.629549106754195}. Best is trial 1 with value: 0.42792101613363076.\n",
      "[I 2024-03-11 19:58:23,576] Trial 30 finished with value: 0.42792101613363076 and parameters: {'iterations': 886, 'learning_rate': 0.15365166860772, 'depth': 8, 'l2_leaf_reg': 2.8430963290477878, 'bagging_temperature': 0.5712950876331921}. Best is trial 1 with value: 0.42792101613363076.\n",
      "[I 2024-03-11 19:58:36,265] Trial 31 finished with value: 0.42792101613363076 and parameters: {'iterations': 681, 'learning_rate': 0.2010334549666053, 'depth': 6, 'l2_leaf_reg': 8.707753628689105, 'bagging_temperature': 0.7738265618302146}. Best is trial 1 with value: 0.42792101613363076.\n",
      "[I 2024-03-11 19:58:59,354] Trial 32 finished with value: 0.42792101613363076 and parameters: {'iterations': 797, 'learning_rate': 0.2350566289823926, 'depth': 7, 'l2_leaf_reg': 7.743093505630755, 'bagging_temperature': 0.7938646395534548}. Best is trial 1 with value: 0.42792101613363076.\n",
      "[I 2024-03-11 19:59:12,885] Trial 33 finished with value: 0.42792101613363076 and parameters: {'iterations': 692, 'learning_rate': 0.18891886316066625, 'depth': 6, 'l2_leaf_reg': 6.973282095629492, 'bagging_temperature': 0.8213678285340558}. Best is trial 1 with value: 0.42792101613363076.\n",
      "[I 2024-03-11 19:59:30,605] Trial 34 finished with value: 0.42792101613363076 and parameters: {'iterations': 596, 'learning_rate': 0.17449496551834665, 'depth': 7, 'l2_leaf_reg': 8.696902086998406, 'bagging_temperature': 0.7517871041783334}. Best is trial 1 with value: 0.42792101613363076.\n",
      "[I 2024-03-11 19:59:43,575] Trial 35 finished with value: 0.42792101613363076 and parameters: {'iterations': 676, 'learning_rate': 0.29311489976542693, 'depth': 6, 'l2_leaf_reg': 6.113201891988216, 'bagging_temperature': 0.7253094924049226}. Best is trial 1 with value: 0.42792101613363076.\n",
      "[I 2024-03-11 20:00:08,061] Trial 36 finished with value: 0.42792101613363076 and parameters: {'iterations': 816, 'learning_rate': 0.21136907330592086, 'depth': 7, 'l2_leaf_reg': 3.2073550529680785, 'bagging_temperature': 0.6825133945224366}. Best is trial 1 with value: 0.42792101613363076.\n",
      "[I 2024-03-11 20:00:13,535] Trial 37 finished with value: 0.42792101613363076 and parameters: {'iterations': 723, 'learning_rate': 0.13947227213456956, 'depth': 2, 'l2_leaf_reg': 5.303501688493949, 'bagging_temperature': 0.9107889764913113}. Best is trial 1 with value: 0.42792101613363076.\n",
      "[I 2024-03-11 20:00:21,849] Trial 38 finished with value: 0.42792101613363076 and parameters: {'iterations': 584, 'learning_rate': 0.02501552616118825, 'depth': 5, 'l2_leaf_reg': 8.059713008471762, 'bagging_temperature': 0.7367737418104091}. Best is trial 1 with value: 0.42792101613363076.\n",
      "[I 2024-03-11 20:00:29,657] Trial 39 finished with value: 0.42792101613363076 and parameters: {'iterations': 391, 'learning_rate': 0.09347143146550546, 'depth': 6, 'l2_leaf_reg': 6.485787148963561, 'bagging_temperature': 0.9941219081082386}. Best is trial 1 with value: 0.42792101613363076.\n",
      "[I 2024-03-11 20:00:36,934] Trial 40 finished with value: 0.42792101613363076 and parameters: {'iterations': 653, 'learning_rate': 0.16074438837885646, 'depth': 4, 'l2_leaf_reg': 7.2326782900129905, 'bagging_temperature': 0.83196154327451}. Best is trial 1 with value: 0.42792101613363076.\n",
      "[I 2024-03-11 20:01:03,887] Trial 41 finished with value: 0.42792101613363076 and parameters: {'iterations': 527, 'learning_rate': 0.11376049743920641, 'depth': 8, 'l2_leaf_reg': 2.0141484513860592, 'bagging_temperature': 0.9176045952881917}. Best is trial 1 with value: 0.42792101613363076.\n",
      "[I 2024-03-11 20:01:29,763] Trial 42 finished with value: 0.42792101613363076 and parameters: {'iterations': 512, 'learning_rate': 0.15185818594158923, 'depth': 8, 'l2_leaf_reg': 9.88505145003279, 'bagging_temperature': 0.9462424384495627}. Best is trial 1 with value: 0.42792101613363076.\n",
      "[I 2024-03-11 20:01:46,556] Trial 43 finished with value: 0.42792101613363076 and parameters: {'iterations': 319, 'learning_rate': 0.11985416179543823, 'depth': 8, 'l2_leaf_reg': 9.805205048181026, 'bagging_temperature': 0.6512677024457176}. Best is trial 1 with value: 0.42792101613363076.\n",
      "[I 2024-03-11 20:02:03,388] Trial 44 finished with value: 0.42792101613363076 and parameters: {'iterations': 557, 'learning_rate': 0.08488658851161214, 'depth': 7, 'l2_leaf_reg': 9.254179325295345, 'bagging_temperature': 0.5732566067963123}. Best is trial 1 with value: 0.42792101613363076.\n",
      "[I 2024-03-11 20:02:16,449] Trial 45 finished with value: 0.42792101613363076 and parameters: {'iterations': 421, 'learning_rate': 0.13608207006101009, 'depth': 7, 'l2_leaf_reg': 9.132880104333589, 'bagging_temperature': 0.7009573664552589}. Best is trial 1 with value: 0.42792101613363076.\n",
      "[I 2024-03-11 20:02:40,264] Trial 46 finished with value: 0.42792101613363076 and parameters: {'iterations': 460, 'learning_rate': 0.18626731533543103, 'depth': 8, 'l2_leaf_reg': 8.171851717401616, 'bagging_temperature': 0.7860581287409055}. Best is trial 1 with value: 0.42792101613363076.\n",
      "[I 2024-03-11 20:03:10,370] Trial 47 finished with value: 0.42792101613363076 and parameters: {'iterations': 999, 'learning_rate': 0.06662610403514646, 'depth': 7, 'l2_leaf_reg': 7.42001955144985, 'bagging_temperature': 0.9976530335984849}. Best is trial 1 with value: 0.42792101613363076.\n",
      "[I 2024-03-11 20:03:16,979] Trial 48 finished with value: 0.42792101613363076 and parameters: {'iterations': 484, 'learning_rate': 0.02729840033866212, 'depth': 5, 'l2_leaf_reg': 4.216448141030456, 'bagging_temperature': 0.8632686977680294}. Best is trial 1 with value: 0.42792101613363076.\n",
      "[I 2024-03-11 20:03:29,061] Trial 49 finished with value: 0.42792101613363076 and parameters: {'iterations': 615, 'learning_rate': 0.10750208177393361, 'depth': 6, 'l2_leaf_reg': 5.596466881158282, 'bagging_temperature': 0.7241554794443155}. Best is trial 1 with value: 0.42792101613363076.\n",
      "[I 2024-03-11 20:03:35,410] Trial 50 finished with value: 0.42538655595922265 and parameters: {'iterations': 556, 'learning_rate': 0.24608337547949555, 'depth': 4, 'l2_leaf_reg': 5.967702464183856, 'bagging_temperature': 0.5992040084434134}. Best is trial 1 with value: 0.42792101613363076.\n",
      "[I 2024-03-11 20:03:38,257] Trial 51 finished with value: 0.42792101613363076 and parameters: {'iterations': 323, 'learning_rate': 0.01532348587956112, 'depth': 3, 'l2_leaf_reg': 4.775553707582736, 'bagging_temperature': 0.8569817110140092}. Best is trial 1 with value: 0.42792101613363076.\n",
      "[I 2024-03-11 20:03:42,316] Trial 52 finished with value: 0.42792101613363076 and parameters: {'iterations': 351, 'learning_rate': 0.048572822109674264, 'depth': 4, 'l2_leaf_reg': 4.113218047164395, 'bagging_temperature': 0.9537207447095841}. Best is trial 1 with value: 0.42792101613363076.\n",
      "[I 2024-03-11 20:03:47,227] Trial 53 finished with value: 0.42792101613363076 and parameters: {'iterations': 428, 'learning_rate': 0.07567740936786652, 'depth': 4, 'l2_leaf_reg': 4.393149241936081, 'bagging_temperature': 0.8925535984552257}. Best is trial 1 with value: 0.42792101613363076.\n",
      "[I 2024-03-11 20:03:52,772] Trial 54 finished with value: 0.42792101613363076 and parameters: {'iterations': 398, 'learning_rate': 0.036730048762166, 'depth': 5, 'l2_leaf_reg': 3.331918648335426, 'bagging_temperature': 0.7509046904667321}. Best is trial 1 with value: 0.42792101613363076.\n",
      "[I 2024-03-11 20:03:55,461] Trial 55 finished with value: 0.42792101613363076 and parameters: {'iterations': 358, 'learning_rate': 0.010131107587426982, 'depth': 2, 'l2_leaf_reg': 2.7409284645421215, 'bagging_temperature': 0.8357960611139206}. Best is trial 1 with value: 0.42792101613363076.\n",
      "[I 2024-03-11 20:04:02,231] Trial 56 finished with value: 0.42792101613363076 and parameters: {'iterations': 766, 'learning_rate': 0.05142857275113953, 'depth': 3, 'l2_leaf_reg': 2.3966870322920326, 'bagging_temperature': 0.6847477199367039}. Best is trial 1 with value: 0.42792101613363076.\n",
      "[I 2024-03-11 20:04:21,567] Trial 57 finished with value: 0.42792101613363076 and parameters: {'iterations': 967, 'learning_rate': 0.022063427176374065, 'depth': 6, 'l2_leaf_reg': 4.422606065524961, 'bagging_temperature': 0.6646930934853527}. Best is trial 1 with value: 0.42792101613363076.\n",
      "[I 2024-03-11 20:04:27,977] Trial 58 finished with value: 0.42792101613363076 and parameters: {'iterations': 711, 'learning_rate': 0.12699617344465478, 'depth': 3, 'l2_leaf_reg': 3.8055724259360395, 'bagging_temperature': 0.6212924082669172}. Best is trial 1 with value: 0.42792101613363076.\n",
      "[I 2024-03-11 20:04:35,172] Trial 59 finished with value: 0.42792101613363076 and parameters: {'iterations': 655, 'learning_rate': 0.03492664406590153, 'depth': 4, 'l2_leaf_reg': 5.1224782625906045, 'bagging_temperature': 0.7130313855339023}. Best is trial 1 with value: 0.42792101613363076.\n",
      "[I 2024-03-11 20:04:47,595] Trial 60 finished with value: 0.42792101613363076 and parameters: {'iterations': 873, 'learning_rate': 0.0620513481381792, 'depth': 5, 'l2_leaf_reg': 6.555131331019963, 'bagging_temperature': 0.7657377584034236}. Best is trial 1 with value: 0.42792101613363076.\n",
      "[I 2024-03-11 20:04:53,594] Trial 61 finished with value: 0.42792101613363076 and parameters: {'iterations': 534, 'learning_rate': 0.08779785998931289, 'depth': 4, 'l2_leaf_reg': 1.5458503939125574, 'bagging_temperature': 0.650081112901203}. Best is trial 1 with value: 0.42792101613363076.\n",
      "[I 2024-03-11 20:04:57,939] Trial 62 finished with value: 0.42792101613363076 and parameters: {'iterations': 485, 'learning_rate': 0.10040064633425573, 'depth': 3, 'l2_leaf_reg': 9.553528919297266, 'bagging_temperature': 0.9763948901217315}. Best is trial 1 with value: 0.42792101613363076.\n",
      "[I 2024-03-11 20:05:06,326] Trial 63 finished with value: 0.42792101613363076 and parameters: {'iterations': 753, 'learning_rate': 0.07141565066138589, 'depth': 4, 'l2_leaf_reg': 1.6691393918803423, 'bagging_temperature': 0.6931937015996013}. Best is trial 1 with value: 0.42792101613363076.\n",
      "[I 2024-03-11 20:05:14,617] Trial 64 finished with value: 0.42792101613363076 and parameters: {'iterations': 602, 'learning_rate': 0.044126746817714925, 'depth': 5, 'l2_leaf_reg': 3.3603843711859196, 'bagging_temperature': 0.6319440601934291}. Best is trial 1 with value: 0.42792101613363076.\n",
      "[I 2024-03-11 20:05:28,007] Trial 65 finished with value: 0.42792101613363076 and parameters: {'iterations': 440, 'learning_rate': 0.03182970667685108, 'depth': 7, 'l2_leaf_reg': 5.096498445897508, 'bagging_temperature': 0.6617611151735162}. Best is trial 1 with value: 0.42792101613363076.\n",
      "[I 2024-03-11 20:05:57,218] Trial 66 finished with value: 0.42792101613363076 and parameters: {'iterations': 576, 'learning_rate': 0.14623056911366492, 'depth': 8, 'l2_leaf_reg': 4.527709243997534, 'bagging_temperature': 0.8076725484364283}. Best is trial 1 with value: 0.42792101613363076.\n",
      "[I 2024-03-11 20:06:02,784] Trial 67 finished with value: 0.42792101613363076 and parameters: {'iterations': 628, 'learning_rate': 0.05721652236820503, 'depth': 3, 'l2_leaf_reg': 8.733831561350904, 'bagging_temperature': 0.737790363145923}. Best is trial 1 with value: 0.42792101613363076.\n",
      "[I 2024-03-11 20:06:14,212] Trial 68 finished with value: 0.42792101613363076 and parameters: {'iterations': 828, 'learning_rate': 0.01811871593252503, 'depth': 5, 'l2_leaf_reg': 1.0225477830681349, 'bagging_temperature': 0.6096410398378103}. Best is trial 1 with value: 0.42792101613363076.\n",
      "[I 2024-03-11 20:06:18,701] Trial 69 finished with value: 0.42792101613363076 and parameters: {'iterations': 543, 'learning_rate': 0.08200192997072872, 'depth': 2, 'l2_leaf_reg': 2.950958137707404, 'bagging_temperature': 0.6774555664399619}. Best is trial 1 with value: 0.42792101613363076.\n",
      "[I 2024-03-11 20:06:28,458] Trial 70 finished with value: 0.4266745713217855 and parameters: {'iterations': 483, 'learning_rate': 0.16713900063814188, 'depth': 6, 'l2_leaf_reg': 8.03115179610195, 'bagging_temperature': 0.8814145002008716}. Best is trial 1 with value: 0.42792101613363076.\n",
      "[I 2024-03-11 20:06:38,893] Trial 71 finished with value: 0.42792101613363076 and parameters: {'iterations': 341, 'learning_rate': 0.09475457535661144, 'depth': 7, 'l2_leaf_reg': 2.009831431071536, 'bagging_temperature': 0.9341979461874764}. Best is trial 1 with value: 0.42792101613363076.\n",
      "[I 2024-03-11 20:06:54,370] Trial 72 finished with value: 0.42792101613363076 and parameters: {'iterations': 301, 'learning_rate': 0.11495339043505794, 'depth': 8, 'l2_leaf_reg': 2.5017780319582776, 'bagging_temperature': 0.7152879710413812}. Best is trial 1 with value: 0.42792101613363076.\n",
      "[I 2024-03-11 20:07:04,635] Trial 73 finished with value: 0.42792101613363076 and parameters: {'iterations': 518, 'learning_rate': 0.04328372323147581, 'depth': 6, 'l2_leaf_reg': 1.197552647911273, 'bagging_temperature': 0.6901079376402652}. Best is trial 1 with value: 0.42792101613363076.\n",
      "[I 2024-03-11 20:07:16,904] Trial 74 finished with value: 0.4266745713217855 and parameters: {'iterations': 403, 'learning_rate': 0.22121976524095768, 'depth': 7, 'l2_leaf_reg': 2.645950329630457, 'bagging_temperature': 0.6445341008804789}. Best is trial 1 with value: 0.42792101613363076.\n",
      "[I 2024-03-11 20:07:38,004] Trial 75 finished with value: 0.42792101613363076 and parameters: {'iterations': 702, 'learning_rate': 0.12962006231724396, 'depth': 7, 'l2_leaf_reg': 3.484237829880264, 'bagging_temperature': 0.6566423178747526}. Best is trial 1 with value: 0.42792101613363076.\n",
      "[I 2024-03-11 20:07:42,156] Trial 76 finished with value: 0.42792101613363076 and parameters: {'iterations': 369, 'learning_rate': 0.052242668217651285, 'depth': 4, 'l2_leaf_reg': 3.689721534806578, 'bagging_temperature': 0.5901378279543604}. Best is trial 1 with value: 0.42792101613363076.\n",
      "[I 2024-03-11 20:08:16,802] Trial 77 finished with value: 0.42792101613363076 and parameters: {'iterations': 669, 'learning_rate': 0.07850316363698127, 'depth': 8, 'l2_leaf_reg': 2.156739280402975, 'bagging_temperature': 0.6696552166490505}. Best is trial 1 with value: 0.42792101613363076.\n",
      "[I 2024-03-11 20:08:35,124] Trial 78 finished with value: 0.42792101613363076 and parameters: {'iterations': 917, 'learning_rate': 0.0691950743421349, 'depth': 6, 'l2_leaf_reg': 1.4522009732979737, 'bagging_temperature': 0.701937449363849}. Best is trial 1 with value: 0.42792101613363076.\n",
      "[I 2024-03-11 20:08:42,912] Trial 79 finished with value: 0.42792101613363076 and parameters: {'iterations': 571, 'learning_rate': 0.109524506191981, 'depth': 5, 'l2_leaf_reg': 1.8229228690756454, 'bagging_temperature': 0.6330266967032683}. Best is trial 1 with value: 0.42792101613363076.\n",
      "[I 2024-03-11 20:08:58,388] Trial 80 finished with value: 0.42792101613363076 and parameters: {'iterations': 501, 'learning_rate': 0.09935189433224956, 'depth': 7, 'l2_leaf_reg': 3.9594054292051655, 'bagging_temperature': 0.7860715571742318}. Best is trial 1 with value: 0.42792101613363076.\n",
      "[I 2024-03-11 20:09:21,455] Trial 81 finished with value: 0.4266745713217855 and parameters: {'iterations': 771, 'learning_rate': 0.12008736704761323, 'depth': 7, 'l2_leaf_reg': 1.1972661538316194, 'bagging_temperature': 0.7303765908603475}. Best is trial 1 with value: 0.42792101613363076.\n",
      "[I 2024-03-11 20:09:43,554] Trial 82 finished with value: 0.42792101613363076 and parameters: {'iterations': 734, 'learning_rate': 0.13621606271797868, 'depth': 7, 'l2_leaf_reg': 1.3365574922616403, 'bagging_temperature': 0.7587853997299531}. Best is trial 1 with value: 0.42792101613363076.\n",
      "[I 2024-03-11 20:10:29,166] Trial 83 finished with value: 0.42792101613363076 and parameters: {'iterations': 801, 'learning_rate': 0.0286110812996164, 'depth': 8, 'l2_leaf_reg': 2.3016882153875677, 'bagging_temperature': 0.8464932505798184}. Best is trial 1 with value: 0.42792101613363076.\n",
      "[I 2024-03-11 20:10:48,454] Trial 84 finished with value: 0.42792101613363076 and parameters: {'iterations': 458, 'learning_rate': 0.1054095735340108, 'depth': 7, 'l2_leaf_reg': 8.962943225175481, 'bagging_temperature': 0.8111145316096859}. Best is trial 1 with value: 0.42792101613363076.\n",
      "[I 2024-03-11 20:11:00,130] Trial 85 finished with value: 0.42792101613363076 and parameters: {'iterations': 957, 'learning_rate': 0.08992309599762287, 'depth': 4, 'l2_leaf_reg': 8.313060222156658, 'bagging_temperature': 0.7404034683653943}. Best is trial 1 with value: 0.42792101613363076.\n",
      "[I 2024-03-11 20:11:08,509] Trial 86 finished with value: 0.42792101613363076 and parameters: {'iterations': 375, 'learning_rate': 0.06325461582787772, 'depth': 6, 'l2_leaf_reg': 7.572857666177148, 'bagging_temperature': 0.718076662756353}. Best is trial 1 with value: 0.42792101613363076.\n",
      "[I 2024-03-11 20:11:29,896] Trial 87 finished with value: 0.42792101613363076 and parameters: {'iterations': 418, 'learning_rate': 0.14701219657836553, 'depth': 8, 'l2_leaf_reg': 3.068833561018767, 'bagging_temperature': 0.6763015118039652}. Best is trial 1 with value: 0.42792101613363076.\n",
      "[I 2024-03-11 20:11:49,688] Trial 88 finished with value: 0.42792101613363076 and parameters: {'iterations': 638, 'learning_rate': 0.19670096534773585, 'depth': 7, 'l2_leaf_reg': 6.711791555157944, 'bagging_temperature': 0.7055989515195669}. Best is trial 1 with value: 0.42792101613363076.\n",
      "[I 2024-03-11 20:11:56,418] Trial 89 finished with value: 0.42792101613363076 and parameters: {'iterations': 332, 'learning_rate': 0.05578952815644145, 'depth': 6, 'l2_leaf_reg': 1.8682728815456064, 'bagging_temperature': 0.7790187795507251}. Best is trial 1 with value: 0.42792101613363076.\n",
      "[I 2024-03-11 20:11:58,820] Trial 90 finished with value: 0.48543275878017667 and parameters: {'iterations': 306, 'learning_rate': 0.26616116683189806, 'depth': 2, 'l2_leaf_reg': 7.253982216087021, 'bagging_temperature': 0.9107065628242669}. Best is trial 90 with value: 0.48543275878017667.\n",
      "[I 2024-03-11 20:12:01,555] Trial 91 finished with value: 0.4266745713217855 and parameters: {'iterations': 302, 'learning_rate': 0.2748695852660808, 'depth': 2, 'l2_leaf_reg': 7.376992980427538, 'bagging_temperature': 0.916862191184658}. Best is trial 90 with value: 0.48543275878017667.\n",
      "[I 2024-03-11 20:12:04,679] Trial 92 finished with value: 0.42792101613363076 and parameters: {'iterations': 312, 'learning_rate': 0.24800994275806312, 'depth': 3, 'l2_leaf_reg': 7.035376638201201, 'bagging_temperature': 0.8835535185139538}. Best is trial 90 with value: 0.48543275878017667.\n",
      "[I 2024-03-11 20:12:07,744] Trial 93 finished with value: 0.42593986034674175 and parameters: {'iterations': 348, 'learning_rate': 0.2884067646651225, 'depth': 2, 'l2_leaf_reg': 6.167914046310115, 'bagging_temperature': 0.9735488154774381}. Best is trial 90 with value: 0.48543275878017667.\n",
      "[I 2024-03-11 20:12:13,422] Trial 94 finished with value: 0.42593986034674175 and parameters: {'iterations': 690, 'learning_rate': 0.26525471608436846, 'depth': 2, 'l2_leaf_reg': 5.742509360109264, 'bagging_temperature': 0.9386472829883226}. Best is trial 90 with value: 0.48543275878017667.\n",
      "[I 2024-03-11 20:12:16,645] Trial 95 finished with value: 0.42792101613363076 and parameters: {'iterations': 326, 'learning_rate': 0.07507422479441656, 'depth': 2, 'l2_leaf_reg': 7.182148284700408, 'bagging_temperature': 0.923522723238778}. Best is trial 90 with value: 0.48543275878017667.\n",
      "[I 2024-03-11 20:12:24,160] Trial 96 finished with value: 0.42792101613363076 and parameters: {'iterations': 607, 'learning_rate': 0.02192158506504678, 'depth': 4, 'l2_leaf_reg': 7.869368556167221, 'bagging_temperature': 0.9696253406120283}. Best is trial 90 with value: 0.48543275878017667.\n",
      "[I 2024-03-11 20:12:30,674] Trial 97 finished with value: 0.4266745713217855 and parameters: {'iterations': 750, 'learning_rate': 0.11341166288162167, 'depth': 2, 'l2_leaf_reg': 1.0477743790615364, 'bagging_temperature': 0.8955248839103926}. Best is trial 90 with value: 0.48543275878017667.\n",
      "[I 2024-03-11 20:12:34,632] Trial 98 finished with value: 0.42593986034674175 and parameters: {'iterations': 360, 'learning_rate': 0.23543114488316785, 'depth': 3, 'l2_leaf_reg': 4.929649646566798, 'bagging_temperature': 0.6936116983557269}. Best is trial 90 with value: 0.48543275878017667.\n",
      "[I 2024-03-11 20:12:44,277] Trial 99 finished with value: 0.42792101613363076 and parameters: {'iterations': 714, 'learning_rate': 0.03915506281485938, 'depth': 4, 'l2_leaf_reg': 9.585148946110458, 'bagging_temperature': 0.6414688049923106}. Best is trial 90 with value: 0.48543275878017667.\n"
     ]
    },
    {
     "name": "stdout",
     "output_type": "stream",
     "text": [
      "Best parameters: {'iterations': 306, 'learning_rate': 0.26616116683189806, 'depth': 2, 'l2_leaf_reg': 7.253982216087021, 'bagging_temperature': 0.9107065628242669}\n"
     ]
    }
   ],
   "source": [
    "def objective(trial):\n",
    "    params = {\n",
    "        'iterations': trial.suggest_int( 'iterations', 300, 1000),\n",
    "        'learning_rate': trial.suggest_float('learning_rate', 0.01, 0.3),\n",
    "        'depth': trial.suggest_int('depth', 2, 8),\n",
    "        'l2_leaf_reg': trial.suggest_float('l2_leaf_reg', 1, 10),\n",
    "        'bagging_temperature' : trial.suggest_float('bagging_temperature', 0.5, 1),\n",
    "    }\n",
    "\n",
    "    model = CatBoostClassifier(**params, verbose= False)\n",
    "    model.fit(train_dataset)\n",
    "\n",
    "    y_pred = model.predict(test_dataset)\n",
    "    nd = ndcg_score([y_test], [y_pred], k=len(y_test))\n",
    "\n",
    "    return nd\n",
    "\n",
    "study = optuna.create_study(direction='maximize')\n",
    "study.optimize(objective, n_trials=100)\n",
    "\n",
    "best_params = study.best_params\n",
    "print(\"Best parameters:\", best_params)"
   ]
  },
  {
   "cell_type": "code",
   "execution_count": 103,
   "metadata": {},
   "outputs": [
    {
     "name": "stdout",
     "output_type": "stream",
     "text": [
      "NDCG metric = 0.38792243068552423\n"
     ]
    }
   ],
   "source": [
    "model = CatBoostClassifier(**best_params, verbose = False)\n",
    "model.fit(train_dataset)\n",
    "\n",
    "\n",
    "preds = model.predict(test_dataset)\n",
    "\n",
    "test_data = pd.read_csv(\"C:/Users/savel/Downloads/test_df.csv\")\n",
    "y_td = test_data[test_data.columns[-1]].values\n",
    "X = test_data[test_data.columns[:-1]].values\n",
    "\n",
    "Xp = Pool(data = X,\n",
    "         label = y_td,\n",
    "         cat_features=None)\n",
    "\n",
    "ptd = model.predict(Xp)\n",
    "nd = ndcg_score([y_td], [ptd], k=len(y_td))\n",
    "print(f\"NDCG metric = {nd}\")\n"
   ]
  }
 ],
 "metadata": {
  "kernelspec": {
   "display_name": "base",
   "language": "python",
   "name": "python3"
  },
  "language_info": {
   "codemirror_mode": {
    "name": "ipython",
    "version": 3
   },
   "file_extension": ".py",
   "mimetype": "text/x-python",
   "name": "python",
   "nbconvert_exporter": "python",
   "pygments_lexer": "ipython3",
   "version": "3.8.3"
  }
 },
 "nbformat": 4,
 "nbformat_minor": 2
}
